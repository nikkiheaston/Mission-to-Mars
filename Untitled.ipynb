{
 "cells": [
  {
   "cell_type": "code",
   "execution_count": 1,
   "id": "c18e8ebe",
   "metadata": {},
   "outputs": [],
   "source": [
    "from splinter import Browser\n",
    "from bs4 import BeautifulSoup as soup\n",
    "from webdriver_manager.chrome import ChromeDriverManager"
   ]
  },
  {
   "cell_type": "code",
   "execution_count": 2,
   "id": "061884eb",
   "metadata": {},
   "outputs": [
    {
     "name": "stderr",
     "output_type": "stream",
     "text": [
      "[WDM] - ====== WebDriver manager ======\n"
     ]
    },
    {
     "name": "stdout",
     "output_type": "stream",
     "text": [
      "\n"
     ]
    },
    {
     "name": "stderr",
     "output_type": "stream",
     "text": [
      "[WDM] - Current google-chrome version is 102.0.5005\n",
      "[WDM] - Get LATEST chromedriver version for 102.0.5005 google-chrome\n",
      "[WDM] - About to download new driver from https://chromedriver.storage.googleapis.com/102.0.5005.61/chromedriver_win32.zip\n",
      "[WDM] - Driver has been saved in cache [C:\\Users\\nikki\\.wdm\\drivers\\chromedriver\\win32\\102.0.5005.61]\n"
     ]
    }
   ],
   "source": [
    "# Set the executable path and initialize Splinter\n",
    "executable_path = {'executable_path': ChromeDriverManager().install()}\n",
    "browser = Browser('chrome', **executable_path, headless=False)"
   ]
  },
  {
   "cell_type": "code",
   "execution_count": 13,
   "id": "a22b66b3",
   "metadata": {},
   "outputs": [],
   "source": [
    "# 1. Use browser to visit the URL \n",
    "url = 'https://marshemispheres.com/'\n",
    "\n",
    "browser.visit(url)"
   ]
  },
  {
   "cell_type": "code",
   "execution_count": 17,
   "id": "0d42065d",
   "metadata": {},
   "outputs": [
    {
     "ename": "ElementDoesNotExist",
     "evalue": "no elements could be found with link by partial text \"Hemisphere Enhanced\"",
     "output_type": "error",
     "traceback": [
      "\u001b[1;31m---------------------------------------------------------------------------\u001b[0m",
      "\u001b[1;31mIndexError\u001b[0m                                Traceback (most recent call last)",
      "\u001b[1;32m~\\Anaconda3\\envs\\PythonData\\lib\\site-packages\\splinter\\element_list.py\u001b[0m in \u001b[0;36m__getitem__\u001b[1;34m(self, index)\u001b[0m\n\u001b[0;32m     38\u001b[0m         \u001b[1;32mtry\u001b[0m\u001b[1;33m:\u001b[0m\u001b[1;33m\u001b[0m\u001b[1;33m\u001b[0m\u001b[0m\n\u001b[1;32m---> 39\u001b[1;33m             \u001b[1;32mreturn\u001b[0m \u001b[0mself\u001b[0m\u001b[1;33m.\u001b[0m\u001b[0m_container\u001b[0m\u001b[1;33m[\u001b[0m\u001b[0mindex\u001b[0m\u001b[1;33m]\u001b[0m\u001b[1;33m\u001b[0m\u001b[1;33m\u001b[0m\u001b[0m\n\u001b[0m\u001b[0;32m     40\u001b[0m         \u001b[1;32mexcept\u001b[0m \u001b[0mIndexError\u001b[0m\u001b[1;33m:\u001b[0m\u001b[1;33m\u001b[0m\u001b[1;33m\u001b[0m\u001b[0m\n",
      "\u001b[1;31mIndexError\u001b[0m: list index out of range",
      "\nDuring handling of the above exception, another exception occurred:\n",
      "\u001b[1;31mElementDoesNotExist\u001b[0m                       Traceback (most recent call last)",
      "\u001b[1;32m~\\AppData\\Local\\Temp/ipykernel_16548/1369391578.py\u001b[0m in \u001b[0;36m<module>\u001b[1;34m\u001b[0m\n\u001b[0;32m      5\u001b[0m \u001b[1;32mfor\u001b[0m \u001b[0mlink\u001b[0m \u001b[1;32min\u001b[0m \u001b[0mrange\u001b[0m\u001b[1;33m(\u001b[0m\u001b[1;36m4\u001b[0m\u001b[1;33m)\u001b[0m\u001b[1;33m:\u001b[0m\u001b[1;33m\u001b[0m\u001b[1;33m\u001b[0m\u001b[0m\n\u001b[0;32m      6\u001b[0m \u001b[1;33m\u001b[0m\u001b[0m\n\u001b[1;32m----> 7\u001b[1;33m     \u001b[0mbrowser\u001b[0m\u001b[1;33m.\u001b[0m\u001b[0mlinks\u001b[0m\u001b[1;33m.\u001b[0m\u001b[0mfind_by_partial_text\u001b[0m\u001b[1;33m(\u001b[0m\u001b[1;34m'Hemisphere Enhanced'\u001b[0m\u001b[1;33m)\u001b[0m\u001b[1;33m[\u001b[0m\u001b[0mlink\u001b[0m\u001b[1;33m]\u001b[0m\u001b[1;33m.\u001b[0m\u001b[0mclick\u001b[0m\u001b[1;33m(\u001b[0m\u001b[1;33m)\u001b[0m\u001b[1;33m\u001b[0m\u001b[1;33m\u001b[0m\u001b[0m\n\u001b[0m\u001b[0;32m      8\u001b[0m \u001b[1;33m\u001b[0m\u001b[0m\n\u001b[0;32m      9\u001b[0m     \u001b[0mhtml\u001b[0m \u001b[1;33m=\u001b[0m \u001b[0mbrowser\u001b[0m\u001b[1;33m.\u001b[0m\u001b[0mhtml\u001b[0m\u001b[1;33m\u001b[0m\u001b[1;33m\u001b[0m\u001b[0m\n",
      "\u001b[1;32m~\\Anaconda3\\envs\\PythonData\\lib\\site-packages\\splinter\\element_list.py\u001b[0m in \u001b[0;36m__getitem__\u001b[1;34m(self, index)\u001b[0m\n\u001b[0;32m     41\u001b[0m             raise ElementDoesNotExist(\n\u001b[0;32m     42\u001b[0m                 u'no elements could be found with {0} \"{1}\"'.format(\n\u001b[1;32m---> 43\u001b[1;33m                     \u001b[0mself\u001b[0m\u001b[1;33m.\u001b[0m\u001b[0mfind_by\u001b[0m\u001b[1;33m,\u001b[0m \u001b[0mself\u001b[0m\u001b[1;33m.\u001b[0m\u001b[0mquery\u001b[0m\u001b[1;33m\u001b[0m\u001b[1;33m\u001b[0m\u001b[0m\n\u001b[0m\u001b[0;32m     44\u001b[0m                 )\n\u001b[0;32m     45\u001b[0m             )\n",
      "\u001b[1;31mElementDoesNotExist\u001b[0m: no elements could be found with link by partial text \"Hemisphere Enhanced\""
     ]
    }
   ],
   "source": [
    "\n",
    "#for link in range(4):\n",
    "    \n",
    "    #browser.links.find_by_partial_text('Hemisphere Enhanced')[link].click()\n",
    "    \n",
    "    #html = browser.html\n",
    "    #hemi_soup = soup(html, 'html.parser')\n",
    "    \n",
    "    #title = hemi_enhance_soup.find('h2', class_='title').text\n",
    "    #full_img_link = browser.find_link_by_partial_text('Sample')\n",
    "    #full_img_url = f'https://marshemispheres.com/{full_img_link}'\n",
    "    \n",
    "    #print(full_img_url, title)\n",
    "    \n",
    "    #hemispheres = {}\n",
    "    #hemispheres['image_url'] = full_img_url\n",
    "    #hemispheres['title'] = title\n",
    "    \n",
    "    #hemi_soup.find('h2', class_='title').text\n",
    "    \n",
    "\n",
    "    hemisphere_image_urls.append(hemispheres)   \n",
    "    browser.back()\n"
   ]
  },
  {
   "cell_type": "code",
   "execution_count": 8,
   "id": "c2f42436",
   "metadata": {},
   "outputs": [
    {
     "ename": "AttributeError",
     "evalue": "'int' object has no attribute 'h3'",
     "output_type": "error",
     "traceback": [
      "\u001b[1;31m---------------------------------------------------------------------------\u001b[0m",
      "\u001b[1;31mAttributeError\u001b[0m                            Traceback (most recent call last)",
      "\u001b[1;32m~\\AppData\\Local\\Temp/ipykernel_16548/2084495611.py\u001b[0m in \u001b[0;36m<module>\u001b[1;34m\u001b[0m\n\u001b[0;32m      5\u001b[0m \u001b[1;33m\u001b[0m\u001b[0m\n\u001b[0;32m      6\u001b[0m     \u001b[0mheadlines\u001b[0m \u001b[1;33m=\u001b[0m \u001b[1;33m[\u001b[0m\u001b[1;33m]\u001b[0m\u001b[1;33m\u001b[0m\u001b[1;33m\u001b[0m\u001b[0m\n\u001b[1;32m----> 7\u001b[1;33m     \u001b[1;32mif\u001b[0m \u001b[1;33m(\u001b[0m\u001b[0mlink\u001b[0m\u001b[1;33m.\u001b[0m\u001b[0mh3\u001b[0m\u001b[1;33m)\u001b[0m\u001b[1;33m:\u001b[0m\u001b[1;33m\u001b[0m\u001b[1;33m\u001b[0m\u001b[0m\n\u001b[0m\u001b[0;32m      8\u001b[0m         \u001b[0mheadlines\u001b[0m\u001b[1;33m.\u001b[0m\u001b[0mappend\u001b[0m\u001b[1;33m(\u001b[0m\u001b[0mlink\u001b[0m\u001b[1;33m)\u001b[0m\u001b[1;33m\u001b[0m\u001b[1;33m\u001b[0m\u001b[0m\n\u001b[0;32m      9\u001b[0m \u001b[1;33m\u001b[0m\u001b[0m\n",
      "\u001b[1;31mAttributeError\u001b[0m: 'int' object has no attribute 'h3'"
     ]
    }
   ],
   "source": [
    "hemi_soup = soup(html, 'html.parser')\n",
    "link_array = hemi_soup.find_all('a', class_='itemLink')\n",
    "\n",
    "for link in link_array: \n",
    "    \n",
    "    headlines = []\n",
    "    if (link.h3):\n",
    "        headlines.append(link)\n",
    "        \n",
    "        #hemispheres = {}\n",
    "        for headline in headlines[0:4]:\n",
    "            \n",
    "            #hemisphere = {}\n",
    "            browser.links.find_by_partial_text('Hemisphere Enhanced')[link].click()\n",
    "            \n",
    "            html = browser.html\n",
    "            hemi_enhance_soup = soup(html, 'html.parser')\n",
    "        \n",
    "            full_img_link = hemi_enhance_soup.find_all('a', target='_blank', href=True)[2].get('href')\n",
    "            full_img_url = f'https://marshemispheres.com/{full_img_link}'\n",
    "\n",
    "            hemi_title = hemi_enhance_soup.find('h2', class_='title').text\n",
    "            \n",
    "            #hemispheres.update()\n",
    "\n",
    "        browser.back()\n",
    "\n",
    "print(full_img_url, hemi_title)"
   ]
  },
  {
   "cell_type": "code",
   "execution_count": 62,
   "id": "24370708",
   "metadata": {},
   "outputs": [
    {
     "name": "stdout",
     "output_type": "stream",
     "text": [
      "https://marshemispheres.com/images/full.jpg Cerberus Hemisphere Enhanced\n"
     ]
    }
   ],
   "source": [
    "hemi_soup = soup(html, 'html.parser')\n",
    "link_array = hemi_soup.find_all('a', class_='itemLink')\n",
    "\n",
    "for link in link_array: \n",
    "         \n",
    "    browser.links.find_by_partial_text('Hemisphere Enhanced').click()\n",
    "\n",
    "    html = browser.html\n",
    "    hemi_enhance_soup = soup(html, 'html.parser')\n",
    "\n",
    "    full_img_link = hemi_enhance_soup.find_all('a', target='_blank', href=True)[2].get('href')\n",
    "    full_img_url = f'https://marshemispheres.com/{full_img_link}'\n",
    "\n",
    "    hemi_title = hemi_enhance_soup.find('h2', class_='title').text\n",
    "\n",
    "    #hemispheres.update()\n",
    "\n",
    "browser.back()\n",
    "\n",
    "print(full_img_url, hemi_title)"
   ]
  },
  {
   "cell_type": "code",
   "execution_count": 61,
   "id": "0f51a648",
   "metadata": {},
   "outputs": [
    {
     "data": {
      "text/plain": [
       "[<a class=\"itemLink product-item\" href=\"index.html\">\n",
       " <h3>Back</h3>\n",
       " </a>]"
      ]
     },
     "execution_count": 61,
     "metadata": {},
     "output_type": "execute_result"
    }
   ],
   "source": [
    "headlines"
   ]
  },
  {
   "cell_type": "code",
   "execution_count": 26,
   "id": "59bfa6aa",
   "metadata": {},
   "outputs": [
    {
     "name": "stdout",
     "output_type": "stream",
     "text": [
      "https://marshemispheres.com/images/full.jpg Cerberus Hemisphere Enhanced\n"
     ]
    },
    {
     "data": {
      "text/plain": [
       "[<a class=\"itemLink product-item\" href=\"#\" onclick=\"showMain()\">\n",
       " <h3>Back</h3>\n",
       " </a>]"
      ]
     },
     "execution_count": 26,
     "metadata": {},
     "output_type": "execute_result"
    }
   ],
   "source": [
    "link_array = hemi_soup.find_all('a', class_='itemLink')\n",
    "\n",
    "\n",
    "for link in link_array:\n",
    "    headlines = []\n",
    "    if link.h3 and link.href != '#':\n",
    "        headlines.append(link)\n",
    "        \n",
    "        click = browser.links.find_by_partial_text('Hemisphere Enhanced').click()\n",
    "        \n",
    "        html = browser.html\n",
    "        hemi_enhance_soup = soup(html, 'html.parser')\n",
    "        \n",
    "        full_img_link = hemi_enhance_soup.find_all('a', target='_blank', href=True)[2].get('href')\n",
    "        full_img_url = f'https://marshemispheres.com/{full_img_link}'\n",
    "        \n",
    "        hemi_title = hemi_enhance_soup.find('h2', class_='title').text\n",
    "        \n",
    "        browser.back()\n",
    "        \n",
    "print(full_img_url, hemi_title)      \n",
    "headlines"
   ]
  },
  {
   "cell_type": "code",
   "execution_count": 24,
   "id": "e5f44c5a",
   "metadata": {
    "scrolled": true
   },
   "outputs": [
    {
     "name": "stdout",
     "output_type": "stream",
     "text": [
      "https://marshemispheres.com/images/full.jpg Cerberus Hemisphere Enhanced\n"
     ]
    }
   ],
   "source": [
    "hemisphere_image_urls = []\n",
    "link_array = hemi_soup.find_all('a', class_='itemLink')\n",
    "\n",
    "for link in link_array:\n",
    "    \n",
    "    if (link.h3):\n",
    "        #hemi_soup.find('h3') == True:\n",
    "        click = browser.links.find_by_partial_text('Hemisphere Enhanced').click()\n",
    "       \n",
    "        html = browser.html\n",
    "        hemi_enhance_soup = soup(html, 'html.parser')\n",
    "\n",
    "        full_img_link = hemi_enhance_soup.find_all('a', target='_blank', href=True)[2].get('href')\n",
    "        full_img_url = f'https://marshemispheres.com/{full_img_link}'\n",
    "\n",
    "        hemi_title = hemi_enhance_soup.find('h2', class_='title').text\n",
    "#hemispheres = {}\n",
    "\n",
    "\n",
    "\n",
    "#hemispheres.append('image url ':{full_img_url})\n",
    "#hemispheres.append('title ':{hemi_title})\n",
    "\n",
    "        browser.back()\n",
    "print(full_img_url, hemi_title)"
   ]
  },
  {
   "cell_type": "code",
   "execution_count": 6,
   "id": "461fda42",
   "metadata": {},
   "outputs": [],
   "source": [
    "browser.back()"
   ]
  },
  {
   "cell_type": "code",
   "execution_count": 8,
   "id": "947448f3",
   "metadata": {},
   "outputs": [],
   "source": [
    "html = browser.html\n",
    "hemi_enhance_soup = soup(html, 'html.parser')"
   ]
  },
  {
   "cell_type": "code",
   "execution_count": 9,
   "id": "128bc717",
   "metadata": {},
   "outputs": [
    {
     "data": {
      "text/plain": [
       "'images/full.jpg'"
      ]
     },
     "execution_count": 9,
     "metadata": {},
     "output_type": "execute_result"
    }
   ],
   "source": [
    "full_img_link = hemi_enhance_soup.find_all('a', target='_blank', href=True)[2].get('href')\n",
    "full_img_link"
   ]
  },
  {
   "cell_type": "code",
   "execution_count": 10,
   "id": "dc687b79",
   "metadata": {},
   "outputs": [
    {
     "name": "stdout",
     "output_type": "stream",
     "text": [
      "https://marshemispheres.com/images/full.jpg\n"
     ]
    }
   ],
   "source": [
    "full_img_url = f'https://marshemispheres.com/{full_img_link}'\n",
    "print(full_img_url)"
   ]
  },
  {
   "cell_type": "code",
   "execution_count": 11,
   "id": "8c96d84f",
   "metadata": {},
   "outputs": [
    {
     "data": {
      "text/plain": [
       "'Cerberus Hemisphere Enhanced'"
      ]
     },
     "execution_count": 11,
     "metadata": {},
     "output_type": "execute_result"
    }
   ],
   "source": [
    "hemi_title = hemi_enhance_soup.find('h2', class_='title').text\n",
    "hemi_title"
   ]
  },
  {
   "cell_type": "code",
   "execution_count": 12,
   "id": "40ca0a7d",
   "metadata": {},
   "outputs": [],
   "source": [
    "browser.back()"
   ]
  },
  {
   "cell_type": "code",
   "execution_count": 8,
   "id": "7b34a4ba",
   "metadata": {},
   "outputs": [
    {
     "data": {
      "text/plain": [
       "[<a class=\"itemLink product-item\" href=\"cerberus.html\"><img alt=\"Cerberus Hemisphere Enhanced thumbnail\" class=\"thumb\" src=\"images/39d3266553462198bd2fbc4d18fbed17_cerberus_enhanced.tif_thumb.png\"/></a>,\n",
       " <a class=\"itemLink product-item\" href=\"cerberus.html\">\n",
       " <h3>Cerberus Hemisphere Enhanced</h3>\n",
       " </a>,\n",
       " <a class=\"itemLink product-item\" href=\"schiaparelli.html\"><img alt=\"Schiaparelli Hemisphere Enhanced thumbnail\" class=\"thumb\" src=\"images/08eac6e22c07fb1fe72223a79252de20_schiaparelli_enhanced.tif_thumb.png\"/></a>,\n",
       " <a class=\"itemLink product-item\" href=\"schiaparelli.html\">\n",
       " <h3>Schiaparelli Hemisphere Enhanced</h3>\n",
       " </a>,\n",
       " <a class=\"itemLink product-item\" href=\"syrtis.html\"><img alt=\"Syrtis Major Hemisphere Enhanced thumbnail\" class=\"thumb\" src=\"images/55a0a1e2796313fdeafb17c35925e8ac_syrtis_major_enhanced.tif_thumb.png\"/></a>,\n",
       " <a class=\"itemLink product-item\" href=\"syrtis.html\">\n",
       " <h3>Syrtis Major Hemisphere Enhanced</h3>\n",
       " </a>,\n",
       " <a class=\"itemLink product-item\" href=\"valles.html\"><img alt=\"Valles Marineris Hemisphere Enhanced thumbnail\" class=\"thumb\" src=\"images/4e59980c1c57f89c680c0e1ccabbeff1_valles_marineris_enhanced.tif_thumb.png\"/></a>,\n",
       " <a class=\"itemLink product-item\" href=\"valles.html\">\n",
       " <h3>Valles Marineris Hemisphere Enhanced</h3>\n",
       " </a>,\n",
       " <a class=\"itemLink product-item\" href=\"#\" onclick=\"showMain()\">\n",
       " <h3>Back</h3>\n",
       " </a>]"
      ]
     },
     "execution_count": 8,
     "metadata": {},
     "output_type": "execute_result"
    }
   ],
   "source": [
    "link_array"
   ]
  },
  {
   "cell_type": "code",
   "execution_count": 18,
   "id": "03a75b57",
   "metadata": {},
   "outputs": [],
   "source": [
    "browser.quit()"
   ]
  },
  {
   "cell_type": "code",
   "execution_count": null,
   "id": "e1043548",
   "metadata": {},
   "outputs": [],
   "source": [
    "for link in range(4):\n",
    "    \n",
    "    \n",
    "    \n",
    "    \n",
    "    \n",
    "    \n",
    "    \n",
    "    img_url = full_img_soup.find('li').a.get('href')\n",
    "    \n",
    "    \n",
    "    \n",
    "    hemispheres = {}\n",
    "    hemispheres['img_url'] = f'https://marshemispheres.com/{img_url}'\n",
    "    hemispheres['title'] = title\n",
    "    hemisphere_image_urls.append(hemispheres)\n",
    "    \n",
    "    browser.back()\n",
    "    \n",
    "browser.quit()"
   ]
  }
 ],
 "metadata": {
  "kernelspec": {
   "display_name": "PythonData",
   "language": "python",
   "name": "pythondata"
  },
  "language_info": {
   "codemirror_mode": {
    "name": "ipython",
    "version": 3
   },
   "file_extension": ".py",
   "mimetype": "text/x-python",
   "name": "python",
   "nbconvert_exporter": "python",
   "pygments_lexer": "ipython3",
   "version": "3.7.11"
  }
 },
 "nbformat": 4,
 "nbformat_minor": 5
}
